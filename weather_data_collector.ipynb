{
 "cells": [
  {
   "cell_type": "code",
   "execution_count": 3,
   "id": "ae45d961-7912-4d0c-a6f4-4513357b1d1f",
   "metadata": {},
   "outputs": [],
   "source": [
    "import requests\n",
    "import gspread\n",
    "from google.oauth2.service_account import Credentials\n",
    "from datetime import datetime, timezone"
   ]
  },
  {
   "cell_type": "code",
   "execution_count": 4,
   "id": "cc759fa0-f951-4adf-b4de-7461998c3fd0",
   "metadata": {},
   "outputs": [],
   "source": [
    "def get_weather_data(city, api_key):\n",
    "    url = f\"http://api.openweathermap.org/data/2.5/weather?q={city}&appid={api_key}&units=metric\"\n",
    "    response = requests.get(url)\n",
    "    if response.status_code == 200:\n",
    "        data = response.json()\n",
    "        return {\n",
    "            \"Timestamp\": datetime.now(timezone.utc).strftime('%Y-%m-%d %H:%M:%S'), \n",
    "            \"City\": city,\n",
    "            \"Temperature (°C)\": data[\"main\"][\"temp\"],\n",
    "            \"Humidity (%)\": data[\"main\"][\"humidity\"],\n",
    "            \"Description\": data[\"weather\"][0][\"description\"],\n",
    "            \"Time\": datetime.fromtimestamp(data[\"dt\"], tz=timezone.utc).strftime('%Y-%m-%d %H:%M:%S'),\n",
    "            \"Sunrise\": datetime.fromtimestamp(data[\"sys\"][\"sunrise\"], tz=timezone.utc).strftime('%H:%M:%S'),\n",
    "            \"Sunset\": datetime.fromtimestamp(data[\"sys\"][\"sunset\"], tz=timezone.utc).strftime('%H:%M:%S'),\n",
    "            \"Wind Speed (m/s)\": data[\"wind\"][\"speed\"],\n",
    "            \"Weather Icon\": data[\"weather\"][0][\"icon\"]\n",
    "        }\n",
    "    else:\n",
    "        print(f\"Error fetching data for {city}\")\n",
    "        return None"
   ]
  },
  {
   "cell_type": "code",
   "execution_count": 5,
   "id": "6518b645-9756-486e-895a-866be877fc6b",
   "metadata": {},
   "outputs": [],
   "source": [
    "def connect_to_gsheet(json_path, sheet_name):\n",
    "    scope = [\"https://www.googleapis.com/auth/spreadsheets\", \"https://www.googleapis.com/auth/drive\"]\n",
    "    creds = Credentials.from_service_account_file(json_path, scopes=scope)\n",
    "    client = gspread.authorize(creds)\n",
    "    sheet = client.open(sheet_name).sheet1\n",
    "\n",
    "    # Ensure headers exist\n",
    "    if not sheet.row_values(1):\n",
    "        sheet.append_row([\n",
    "            \"Timestamp\", \"City\", \"Temperature (°C)\", \"Humidity (%)\", \"Description\", \n",
    "            \"Time\", \"Wind Speed (m/s)\", \"Sunrise\", \"Sunset\", \"Weather Icon\"\n",
    "        ])\n",
    "    return sheet"
   ]
  },
  {
   "cell_type": "code",
   "execution_count": 6,
   "id": "fcf778dc-8601-4d72-b393-49893d7a1041",
   "metadata": {},
   "outputs": [],
   "source": [
    "api_key = \"8e1981068d7b5bb0e6d60d0792007914\"\n",
    "json_path = r\"C:\\data\\data-with-stephen-457108-a8e720844e4b.json\"\n",
    "cities = [\"New York\", \"London\", \"Lagos\", \"Delhi\", \"Tokyo\"]  # Add your cities\n",
    "sheet = connect_to_gsheet(json_path, \"WeatherData\")"
   ]
  },
  {
   "cell_type": "code",
   "execution_count": null,
   "id": "4431546e-b761-47f6-bdad-feb0a4b5df6e",
   "metadata": {},
   "outputs": [],
   "source": [
    "# Get all the cities already in the sheet (from column 2, which is \"City\")\n",
    "existing_cities = sheet.col_values(2)[1:]  # Skip header\n",
    "\n",
    "# Ask user for a city\n",
    "city = input(\"Enter a city name: \")\n",
    "\n",
    "# Check if city is already in the sheet\n",
    "if city in existing_cities:\n",
    "    print(f\"{city} already exists in the sheet. Skipping entry.\")\n",
    "else:\n",
    "    # Collect weather data\n",
    "    data = get_weather_data(city, api_key)\n",
    "    if data:\n",
    "        # Append new weather data to the sheet\n",
    "        row = [\n",
    "            data[\"Timestamp\"],\n",
    "            data[\"City\"],\n",
    "            data[\"Temperature (°C)\"],\n",
    "            data[\"Humidity (%)\"],\n",
    "            data[\"Description\"],\n",
    "            data[\"Time\"],\n",
    "            data[\"Wind Speed (m/s)\"],\n",
    "            data[\"Sunrise\"],\n",
    "            data[\"Sunset\"],\n",
    "            data[\"Weather Icon\"]\n",
    "        ]\n",
    "        sheet.append_row(row)\n",
    "        print(f\"📤 Weather for {city} added to Google Sheets!\")\n",
    "    "
   ]
  },
  {
   "cell_type": "code",
   "execution_count": null,
   "id": "733b9b74-d336-46e2-a040-1b2531630eaa",
   "metadata": {},
   "outputs": [],
   "source": []
  }
 ],
 "metadata": {
  "kernelspec": {
   "display_name": "Python [conda env:base] *",
   "language": "python",
   "name": "conda-base-py"
  },
  "language_info": {
   "codemirror_mode": {
    "name": "ipython",
    "version": 3
   },
   "file_extension": ".py",
   "mimetype": "text/x-python",
   "name": "python",
   "nbconvert_exporter": "python",
   "pygments_lexer": "ipython3",
   "version": "3.12.7"
  }
 },
 "nbformat": 4,
 "nbformat_minor": 5
}
