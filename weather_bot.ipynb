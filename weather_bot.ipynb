{
 "cells": [
  {
   "cell_type": "code",
   "execution_count": 66,
   "id": "bc968637-259e-46fa-8f1c-b90a4dcd293a",
   "metadata": {},
   "outputs": [],
   "source": [
    "import requests\n",
    "import gspread\n",
    "from google.oauth2.service_account import Credentials\n",
    "from datetime import datetime, timezone"
   ]
  },
  {
   "cell_type": "code",
   "execution_count": 81,
   "id": "b151797b-f2f2-4865-91ee-c9ab88932b01",
   "metadata": {},
   "outputs": [],
   "source": [
    "def get_weather_data(city, api_key):\n",
    "    url = f\"http://api.openweathermap.org/data/2.5/weather?q={city}&appid={api_key}&units=metric\"\n",
    "    response = requests.get(url)\n",
    "    if response.status_code == 200:\n",
    "        data = response.json()\n",
    "        weather_data = {\n",
    "            \"Timestamp\": datetime.now(timezone.utc).strftime('%Y-%m-%d %H:%M:%S'), \n",
    "            \"City\": city,\n",
    "            \"Temperature (°C)\": data[\"main\"][\"temp\"],\n",
    "            \"Humidity (%)\": data[\"main\"][\"humidity\"],\n",
    "            \"Description\": data[\"weather\"][0][\"description\"],\n",
    "            # Use timezone-aware UTC datetime\n",
    "            \"Time\": datetime.fromtimestamp(data[\"dt\"], tz=timezone.utc).strftime('%Y-%m-%d %H:%M:%S'),\n",
    "            # Sunrise and Sunset as timezone-aware datetime\n",
    "            \"Sunrise\": datetime.fromtimestamp(data[\"sys\"][\"sunrise\"], tz=timezone.utc).strftime('%H:%M:%S'),\n",
    "            \"Sunset\": datetime.fromtimestamp(data[\"sys\"][\"sunset\"], tz=timezone.utc).strftime('%H:%M:%S'),\n",
    "            \"Wind Speed (m/s)\": data[\"wind\"][\"speed\"],\n",
    "            \"Weather Icon\": data[\"weather\"][0][\"icon\"]\n",
    "        }\n",
    "        return weather_data\n",
    "    else:\n",
    "        print(\"Error: Unable to fetch weather data.\")\n",
    "        return None"
   ]
  },
  {
   "cell_type": "code",
   "execution_count": 89,
   "id": "1f3007a1-cb15-49b8-96b4-790322a24134",
   "metadata": {},
   "outputs": [
    {
     "name": "stdout",
     "output_type": "stream",
     "text": [
      "Connected to sheet: WeatherData\n",
      "Headers already exist.\n",
      "Connection to Google Sheets established!\n"
     ]
    }
   ],
   "source": [
    "def connect_to_gsheet(json_path, sheet_name):\n",
    "    # Define the scope\n",
    "    scope = [\"https://www.googleapis.com/auth/spreadsheets\", \"https://www.googleapis.com/auth/drive\"]\n",
    "    \n",
    "    # Authenticate using service account credentials\n",
    "    creds = Credentials.from_service_account_file(json_path, scopes=scope)\n",
    "    client = gspread.authorize(creds)\n",
    "\n",
    "    try:\n",
    "        # Open the Google Sheets document by its name\n",
    "        sheet = client.open(sheet_name).sheet1\n",
    "        print(\"Connected to sheet:\", sheet_name)\n",
    "\n",
    "        # Check if headers are already added (first row)\n",
    "        header = sheet.row_values(1)  # Read the first row (header)\n",
    "        \n",
    "        if not header:  # If the header is empty, append the headers\n",
    "            print(\"Headers not found. Appending headers...\")\n",
    "            sheet.append_row([\n",
    "                \"Timestamp\", \"City\", \"Temperature (°C)\", \"Humidity (%)\", \"Description\", \n",
    "                \"Time\", \"Wind Speed (m/s)\", \"Sunrise\", \"Sunset\", \"Weather Icon\"\n",
    "            ])\n",
    "        else:\n",
    "            print(\"Headers already exist.\")\n",
    "\n",
    "        return sheet\n",
    "    \n",
    "    except Exception as e:\n",
    "        print(f\"Error: {e}\")\n",
    "        return None  # Return None if there's an error\n",
    "\n",
    "# Usage example: provide the path to your credentials JSON and the name of the sheet\n",
    "sheet = connect_to_gsheet(r\"C:\\data\\data-with-stephen-457108-a8e720844e4b.json\", 'WeatherData')\n",
    "\n",
    "if sheet:\n",
    "    print(\"Connection to Google Sheets established!\")\n",
    "else:\n",
    "    print(\"Failed to connect to Google Sheets.\")"
   ]
  },
  {
   "cell_type": "code",
   "execution_count": 83,
   "id": "67c4daa3-165b-4170-a05a-fda951fe39e3",
   "metadata": {},
   "outputs": [],
   "source": [
    "scope = [\"https://spreadsheets.google.com/feeds\", \"https://www.googleapis.com/auth/drive\"]\n",
    "# Replace with your actual JSON path\n",
    "json_key_path = \"C:/data/data-with-stephen-457108-a8e720844e4b.json\"  # Update with your file path\n",
    "creds = Credentials.from_service_account_file(json_key_path, scopes=scope)# Connect to Google Sheets\n",
    "\n",
    "client = gspread.authorize(creds)\n",
    "sheet = client.open(\"WeatherData\").sheet1"
   ]
  },
  {
   "cell_type": "code",
   "execution_count": 84,
   "id": "34f05068-71d1-423c-a5c1-879e3c6249a5",
   "metadata": {},
   "outputs": [
    {
     "name": "stdin",
     "output_type": "stream",
     "text": [
      "🔍 Enter a city to get weather (or type 'exit' to quit):  Lagos\n"
     ]
    },
    {
     "name": "stdout",
     "output_type": "stream",
     "text": [
      "Timestamp: 2025-04-24 06:01:40\n",
      "City: Lagos\n",
      "Temperature (°C): 26\n",
      "Humidity (%): 88\n",
      "Description: overcast clouds\n",
      "Time: 2025-04-24 05:53:48\n",
      "Sunrise: 05:33:27\n",
      "Sunset: 17:52:27\n",
      "Wind Speed (m/s): 0.77\n",
      "Weather Icon: 04d\n",
      "📤 Sent to Google Sheets!\n"
     ]
    },
    {
     "name": "stdin",
     "output_type": "stream",
     "text": [
      "🔍 Enter a city to get weather (or type 'exit' to quit):  London\n"
     ]
    },
    {
     "name": "stdout",
     "output_type": "stream",
     "text": [
      "Timestamp: 2025-04-24 06:02:14\n",
      "City: London\n",
      "Temperature (°C): 9.22\n",
      "Humidity (%): 87\n",
      "Description: overcast clouds\n",
      "Time: 2025-04-24 05:59:54\n",
      "Sunrise: 04:45:38\n",
      "Sunset: 19:11:17\n",
      "Wind Speed (m/s): 1.54\n",
      "Weather Icon: 04d\n",
      "📤 Sent to Google Sheets!\n"
     ]
    },
    {
     "name": "stdin",
     "output_type": "stream",
     "text": [
      "🔍 Enter a city to get weather (or type 'exit' to quit):  England\n"
     ]
    },
    {
     "name": "stdout",
     "output_type": "stream",
     "text": [
      "Timestamp: 2025-04-24 06:02:20\n",
      "City: England\n",
      "Temperature (°C): 18.78\n",
      "Humidity (%): 93\n",
      "Description: overcast clouds\n",
      "Time: 2025-04-24 06:02:40\n",
      "Sunrise: 11:24:59\n",
      "Sunset: 00:46:35\n",
      "Wind Speed (m/s): 2.96\n",
      "Weather Icon: 04n\n",
      "📤 Sent to Google Sheets!\n"
     ]
    },
    {
     "name": "stdin",
     "output_type": "stream",
     "text": [
      "🔍 Enter a city to get weather (or type 'exit' to quit):  Dubai\n"
     ]
    },
    {
     "name": "stdout",
     "output_type": "stream",
     "text": [
      "Timestamp: 2025-04-24 06:02:25\n",
      "City: Dubai\n",
      "Temperature (°C): 29.96\n",
      "Humidity (%): 51\n",
      "Description: clear sky\n",
      "Time: 2025-04-24 05:53:58\n",
      "Sunrise: 01:48:12\n",
      "Sunset: 14:45:18\n",
      "Wind Speed (m/s): 4.63\n",
      "Weather Icon: 01d\n",
      "📤 Sent to Google Sheets!\n"
     ]
    },
    {
     "name": "stdin",
     "output_type": "stream",
     "text": [
      "🔍 Enter a city to get weather (or type 'exit' to quit):  Hungary\n"
     ]
    },
    {
     "name": "stdout",
     "output_type": "stream",
     "text": [
      "Timestamp: 2025-04-24 06:02:34\n",
      "City: Hungary\n",
      "Temperature (°C): 16.05\n",
      "Humidity (%): 81\n",
      "Description: overcast clouds\n",
      "Time: 2025-04-24 06:02:54\n",
      "Sunrise: 03:35:54\n",
      "Sunset: 17:40:01\n",
      "Wind Speed (m/s): 2.95\n",
      "Weather Icon: 04d\n",
      "📤 Sent to Google Sheets!\n"
     ]
    },
    {
     "name": "stdin",
     "output_type": "stream",
     "text": [
      "🔍 Enter a city to get weather (or type 'exit' to quit):  California\n"
     ]
    },
    {
     "name": "stdout",
     "output_type": "stream",
     "text": [
      "Timestamp: 2025-04-24 06:02:39\n",
      "City: California\n",
      "Temperature (°C): 9.97\n",
      "Humidity (%): 84\n",
      "Description: clear sky\n",
      "Time: 2025-04-24 06:02:59\n",
      "Sunrise: 10:17:31\n",
      "Sunset: 23:50:22\n",
      "Wind Speed (m/s): 0\n",
      "Weather Icon: 01n\n",
      "📤 Sent to Google Sheets!\n"
     ]
    },
    {
     "name": "stdin",
     "output_type": "stream",
     "text": [
      "🔍 Enter a city to get weather (or type 'exit' to quit):  Connecticut\n"
     ]
    },
    {
     "name": "stdout",
     "output_type": "stream",
     "text": [
      "Timestamp: 2025-04-24 06:02:47\n",
      "City: Connecticut\n",
      "Temperature (°C): 10.04\n",
      "Humidity (%): 75\n",
      "Description: clear sky\n",
      "Time: 2025-04-24 06:03:07\n",
      "Sunrise: 09:56:32\n",
      "Sunset: 23:40:38\n",
      "Wind Speed (m/s): 0\n",
      "Weather Icon: 01n\n",
      "📤 Sent to Google Sheets!\n"
     ]
    },
    {
     "name": "stdin",
     "output_type": "stream",
     "text": [
      "🔍 Enter a city to get weather (or type 'exit' to quit):  Ikeja\n"
     ]
    },
    {
     "name": "stdout",
     "output_type": "stream",
     "text": [
      "Timestamp: 2025-04-24 06:02:52\n",
      "City: Ikeja\n",
      "Temperature (°C): 27.35\n",
      "Humidity (%): 79\n",
      "Description: overcast clouds\n",
      "Time: 2025-04-24 05:58:56\n",
      "Sunrise: 05:35:06\n",
      "Sunset: 17:54:07\n",
      "Wind Speed (m/s): 1.6\n",
      "Weather Icon: 04d\n",
      "📤 Sent to Google Sheets!\n"
     ]
    },
    {
     "name": "stdin",
     "output_type": "stream",
     "text": [
      "🔍 Enter a city to get weather (or type 'exit' to quit):  Agege\n"
     ]
    },
    {
     "name": "stdout",
     "output_type": "stream",
     "text": [
      "Timestamp: 2025-04-24 06:02:56\n",
      "City: Agege\n",
      "Temperature (°C): 27.06\n",
      "Humidity (%): 80\n",
      "Description: overcast clouds\n",
      "Time: 2025-04-24 06:03:16\n",
      "Sunrise: 05:35:08\n",
      "Sunset: 17:54:12\n",
      "Wind Speed (m/s): 1.42\n",
      "Weather Icon: 04d\n",
      "📤 Sent to Google Sheets!\n"
     ]
    },
    {
     "name": "stdin",
     "output_type": "stream",
     "text": [
      "🔍 Enter a city to get weather (or type 'exit' to quit):  Ajah\n"
     ]
    },
    {
     "name": "stdout",
     "output_type": "stream",
     "text": [
      "Timestamp: 2025-04-24 06:03:28\n",
      "City: Ajah\n",
      "Temperature (°C): 27.99\n",
      "Humidity (%): 79\n",
      "Description: overcast clouds\n",
      "Time: 2025-04-24 06:03:48\n",
      "Sunrise: 05:34:18\n",
      "Sunset: 17:53:06\n",
      "Wind Speed (m/s): 2.58\n",
      "Weather Icon: 04d\n",
      "📤 Sent to Google Sheets!\n"
     ]
    },
    {
     "name": "stdin",
     "output_type": "stream",
     "text": [
      "🔍 Enter a city to get weather (or type 'exit' to quit):  Kenya\n"
     ]
    },
    {
     "name": "stdout",
     "output_type": "stream",
     "text": [
      "Timestamp: 2025-04-24 06:03:37\n",
      "City: Kenya\n",
      "Temperature (°C): 25.59\n",
      "Humidity (%): 62\n",
      "Description: broken clouds\n",
      "Time: 2025-04-24 06:02:15\n",
      "Sunrise: 03:21:39\n",
      "Sunset: 15:30:17\n",
      "Wind Speed (m/s): 5.76\n",
      "Weather Icon: 04d\n",
      "📤 Sent to Google Sheets!\n"
     ]
    },
    {
     "name": "stdin",
     "output_type": "stream",
     "text": [
      "🔍 Enter a city to get weather (or type 'exit' to quit):  exit\n"
     ]
    }
   ],
   "source": [
    "while True:\n",
    "    city = input(\"🔍 Enter a city to get weather (or type 'exit' to quit): \")\n",
    "    if city.lower() == 'exit':\n",
    "        break\n",
    "\n",
    "    data = get_weather_data(city, api_key)\n",
    "    if data:\n",
    "        for key, value in data.items():\n",
    "            print(f\"{key}: {value}\")\n",
    "\n",
    "        # Append the weather data to the Google Sheet\n",
    "        row = [\n",
    "            data[\"Timestamp\"],\n",
    "            data[\"City\"],\n",
    "            data[\"Temperature (°C)\"],\n",
    "            data[\"Humidity (%)\"],\n",
    "            data[\"Description\"],\n",
    "            data[\"Time\"],\n",
    "            data[\"Wind Speed (m/s)\"],\n",
    "            data[\"Sunrise\"],\n",
    "            data[\"Sunset\"],\n",
    "            data[\"Weather Icon\"]\n",
    "        ]\n",
    "        sheet.append_row(row)\n",
    "        print(\"📤 Sent to Google Sheets!\")"
   ]
  },
  {
   "cell_type": "code",
   "execution_count": 85,
   "id": "27cad9f5-22f8-433b-8e95-1a7622333b9a",
   "metadata": {},
   "outputs": [
    {
     "name": "stdout",
     "output_type": "stream",
     "text": [
      "[['Timestamp', 'City', 'Temperature (°C)', 'Humidity (%)', 'Description', 'Time', 'Wind Speed (m/s)', 'Sunrise', 'Sunset', 'Weather Icon'], ['2025-04-24 06:01:40', 'Lagos', '26', '88', 'overcast clouds', '2025-04-24 05:53:48', '0.77', '05:33:27', '17:52:27', '04d'], ['2025-04-24 06:02:14', 'London', '9.22', '87', 'overcast clouds', '2025-04-24 05:59:54', '1.54', '04:45:38', '19:11:17', '04d'], ['2025-04-24 06:02:20', 'England', '18.78', '93', 'overcast clouds', '2025-04-24 06:02:40', '2.96', '11:24:59', '00:46:35', '04n'], ['2025-04-24 06:02:25', 'Dubai', '29.96', '51', 'clear sky', '2025-04-24 05:53:58', '4.63', '01:48:12', '14:45:18', '01d'], ['2025-04-24 06:02:34', 'Hungary', '16.05', '81', 'overcast clouds', '2025-04-24 06:02:54', '2.95', '03:35:54', '17:40:01', '04d'], ['2025-04-24 06:02:39', 'California', '9.97', '84', 'clear sky', '2025-04-24 06:02:59', '0', '10:17:31', '23:50:22', '01n'], ['2025-04-24 06:02:47', 'Connecticut', '10.04', '75', 'clear sky', '2025-04-24 06:03:07', '0', '09:56:32', '23:40:38', '01n'], ['2025-04-24 06:02:52', 'Ikeja', '27.35', '79', 'overcast clouds', '2025-04-24 05:58:56', '1.6', '05:35:06', '17:54:07', '04d'], ['2025-04-24 06:02:56', 'Agege', '27.06', '80', 'overcast clouds', '2025-04-24 06:03:16', '1.42', '05:35:08', '17:54:12', '04d'], ['2025-04-24 06:03:28', 'Ajah', '27.99', '79', 'overcast clouds', '2025-04-24 06:03:48', '2.58', '05:34:18', '17:53:06', '04d'], ['2025-04-24 06:03:37', 'Kenya', '25.59', '62', 'broken clouds', '2025-04-24 06:02:15', '5.76', '03:21:39', '15:30:17', '04d']]\n"
     ]
    }
   ],
   "source": [
    "print(sheet.get_all_values())"
   ]
  },
  {
   "cell_type": "code",
   "execution_count": 86,
   "id": "2cb6e116-cf9f-4a55-a450-ef3ec24b2937",
   "metadata": {},
   "outputs": [],
   "source": [
    "import pandas as pd\n",
    "\n",
    "# Load the data from Google Sheets\n",
    "import gspread\n",
    "from google.oauth2.service_account import Credentials"
   ]
  },
  {
   "cell_type": "code",
   "execution_count": 87,
   "id": "255b0ef4-395f-4b82-a20a-362e64c30929",
   "metadata": {},
   "outputs": [
    {
     "name": "stdout",
     "output_type": "stream",
     "text": [
      "             Timestamp     City  Temperature (°C)  Humidity (%)  \\\n",
      "0  2025-04-24 06:01:40    Lagos             26.00            88   \n",
      "1  2025-04-24 06:02:14   London              9.22            87   \n",
      "2  2025-04-24 06:02:20  England             18.78            93   \n",
      "3  2025-04-24 06:02:25    Dubai             29.96            51   \n",
      "4  2025-04-24 06:02:34  Hungary             16.05            81   \n",
      "\n",
      "       Description                 Time  Wind Speed (m/s)   Sunrise    Sunset  \\\n",
      "0  overcast clouds  2025-04-24 05:53:48              0.77  05:33:27  17:52:27   \n",
      "1  overcast clouds  2025-04-24 05:59:54              1.54  04:45:38  19:11:17   \n",
      "2  overcast clouds  2025-04-24 06:02:40              2.96  11:24:59  00:46:35   \n",
      "3        clear sky  2025-04-24 05:53:58              4.63  01:48:12  14:45:18   \n",
      "4  overcast clouds  2025-04-24 06:02:54              2.95  03:35:54  17:40:01   \n",
      "\n",
      "  Weather Icon  \n",
      "0          04d  \n",
      "1          04d  \n",
      "2          04n  \n",
      "3          01d  \n",
      "4          04d  \n"
     ]
    }
   ],
   "source": [
    "scope = [\"https://spreadsheets.google.com/feeds\", \"https://www.googleapis.com/auth/drive\"]\n",
    "creds = Credentials.from_service_account_file(\"C:/data/data-with-stephen-457108-a8e720844e4b.json\", scopes=scope)\n",
    "client = gspread.authorize(creds)\n",
    "sheet = client.open(\"WeatherData\").sheet1\n",
    "\n",
    "data = pd.DataFrame(sheet.get_all_records())\n",
    "print(data.head())"
   ]
  },
  {
   "cell_type": "code",
   "execution_count": 88,
   "id": "28e846d0-1f05-4598-bb61-534b351949eb",
   "metadata": {},
   "outputs": [],
   "source": [
    "data = data.drop_duplicates()  # Removes duplicates\n",
    "data = data.fillna('N/A')  # Fills empty spots with 'N/A'"
   ]
  },
  {
   "cell_type": "code",
   "execution_count": null,
   "id": "2190a833-c6e4-452f-a7a7-2e29388dd22b",
   "metadata": {},
   "outputs": [],
   "source": []
  }
 ],
 "metadata": {
  "kernelspec": {
   "display_name": "Python [conda env:base] *",
   "language": "python",
   "name": "conda-base-py"
  },
  "language_info": {
   "codemirror_mode": {
    "name": "ipython",
    "version": 3
   },
   "file_extension": ".py",
   "mimetype": "text/x-python",
   "name": "python",
   "nbconvert_exporter": "python",
   "pygments_lexer": "ipython3",
   "version": "3.12.7"
  }
 },
 "nbformat": 4,
 "nbformat_minor": 5
}
